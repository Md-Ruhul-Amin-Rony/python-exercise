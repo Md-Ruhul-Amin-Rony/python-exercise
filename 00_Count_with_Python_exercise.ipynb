{
  "cells": [
    {
      "cell_type": "markdown",
      "metadata": {
        "colab_type": "text",
        "id": "view-in-github"
      },
      "source": [
        "<a href=\"https://colab.research.google.com/github/aleylani/Python-AI25/blob/main/exercises/00_Count_with_Python_exercise.ipynb\" target=\"_parent\"><img src=\"https://colab.research.google.com/assets/colab-badge.svg\" alt=\"Open In Colab\"/></a>"
      ]
    },
    {
      "cell_type": "markdown",
      "metadata": {
        "id": "8V98V8GBP3HL"
      },
      "source": [
        "# Count with Python\n",
        "\n",
        "---\n",
        "These are introductory exercises in Python for fundamental mathematics. It is important to both know mathematics as well as Python in order to understand machine learning concepts. Also a focus here is to use Python as a tool for solving mathematical problems.\n",
        "\n",
        "<p class = \"alert alert-info\" role=\"alert\"><b>Remember</b> to use <b>variables</b> in your computations </p>\n",
        "\n",
        "<p class = \"alert alert-info\" role=\"alert\"><b>Remember</b> to format your answers in a neat way using <b>f-strings</b>\n",
        "\n",
        "The number of stars (\\*), (\\*\\*), (\\*\\*\\*) denotes the difficulty level of the task\n",
        "\n",
        "---"
      ]
    },
    {
      "cell_type": "markdown",
      "metadata": {
        "id": "zn_rU_WFP3HN"
      },
      "source": [
        "## 1. Pythagorean theorem (*)\n",
        "\n",
        "&nbsp; a) &nbsp;  A right angled triangle has the catheti: a = 3 and b = 4 length units. Compute the <b>hypothenuse</b> of the triangle. (*)\n",
        "  \n",
        "&nbsp; b) &nbsp;  A right angled triangle has hypothenuse c = 7.0 and a cathetus a = 5.0 length units. Compute the other cathetus and round to one decimal. (*)\n",
        "\n",
        "<img align=\"left\" src=\"../assets/right-angle-triangle.png\" width=\"200\"/>"
      ]
    },
    {
      "cell_type": "code",
      "execution_count": null,
      "metadata": {},
      "outputs": [
        {
          "name": "stdout",
          "output_type": "stream",
          "text": [
            "The hypothenuse is 5.0\n"
          ]
        }
      ],
      "source": [
        "import math\n",
        "a = 3\n",
        "b =  4\n",
        "c = math.sqrt(a**2 + b**2)\n",
        "print(f\"The hypothenuse of the triangle is {c}\")"
      ]
    },
    {
      "cell_type": "code",
      "execution_count": 4,
      "metadata": {},
      "outputs": [
        {
          "name": "stdout",
          "output_type": "stream",
          "text": [
            "The other side of the triangle is 4.9\n"
          ]
        }
      ],
      "source": [
        "import math\n",
        "c = 7.0\n",
        "a = 5.0\n",
        "b = math.sqrt(c**2 - a**2)\n",
        "d = round(b, 1)\n",
        "print(f\"The other side of the triangle is {d}\")"
      ]
    },
    {
      "cell_type": "markdown",
      "metadata": {
        "id": "_Z374stYP3HN"
      },
      "source": [
        "<details>\n",
        "\n",
        "<summary>Hint</summary>\n",
        "\n",
        "[Video lecture][pythagoras_video] (swedish)\n",
        "\n",
        "[pythagoras_video]: https://www.youtube.com/watch?v=3iivEnKEJ88\n",
        "\n",
        "To do square root in Python\n",
        "```python\n",
        "import math\n",
        "math.sqrt()\n",
        "```\n",
        "\n",
        "</details>\n",
        "<br>\n",
        "<details>\n",
        "\n",
        "<summary>Answer</summary>\n",
        "a)\n",
        "\n",
        "```\n",
        "The hypothenuse is 5 length units\n",
        "```\n",
        "\n",
        "b)\n",
        "\n",
        "```\n",
        "The other cathetus is 4.9 length units\n",
        "```\n",
        "\n",
        "</details>"
      ]
    },
    {
      "cell_type": "markdown",
      "metadata": {
        "id": "NDrFxEyTP3HO"
      },
      "source": [
        "-----\n",
        "## 2. Classification accuracy (*)\n",
        "\n",
        "A machine learning algorithm has been trained to predict whether or not it would rain the next day. Out of 365 predictions, it got 300 correct, compute the accuracy of this model."
      ]
    },
    {
      "cell_type": "code",
      "execution_count": 8,
      "metadata": {},
      "outputs": [
        {
          "name": "stdout",
          "output_type": "stream",
          "text": [
            "Accuracy of the model is 0.82\n"
          ]
        }
      ],
      "source": [
        "total_predictions = 365\n",
        "correct_predictions = 300\n",
        "accuracy = correct_predictions / total_predictions\n",
        "per_accuracy = round(accuracy, 2)\n",
        "print(f\"Accuracy of the model is {per_accuracy}\")"
      ]
    },
    {
      "cell_type": "markdown",
      "metadata": {
        "id": "mc8lSHNtP3HO"
      },
      "source": [
        "---\n",
        "## 3. Classification accuracy (*)\n",
        "A machine learning model has been trained to detect fire. Here is the result of its predictions:\n",
        "\n",
        "<table align=\"left\">\n",
        "<tbody>\n",
        "  <tr>\n",
        "    <td>True Positive (TP)\n",
        "      <ul>\n",
        "        <li>Reality: fire</li>\n",
        "        <li>Predicted: fire</li>\n",
        "        <li>Number of TP: 2</li>\n",
        "      </ul>\n",
        "    </td>\n",
        "    <td>False Positive (FP)\n",
        "      <ul>\n",
        "        <li>Reality: no fire</li>\n",
        "        <li>Predicted: fire</li>\n",
        "        <li>Number of FP: 2</li>\n",
        "      </ul>\n",
        "    </td>\n",
        "  </tr>\n",
        "\n",
        "  <tr>\n",
        "    <td>False Negative (FN)\n",
        "      <ul>\n",
        "        <li>Reality: fire</li>\n",
        "        <li>Predicted: no fire</li>\n",
        "        <li>Number of FN: 11</li>\n",
        "      </ul>\n",
        "    </td>\n",
        "    <td>True Negative (TN)\n",
        "      <ul>\n",
        "        <li>Reality: no fire</li>\n",
        "        <li>Predicted: no fire</li>\n",
        "        <li>Number of TN: 985</li>\n",
        "      </ul>\n",
        "    </td>\n",
        "  </tr>\n",
        "</tbody>\n",
        "</table>"
      ]
    },
    {
      "cell_type": "code",
      "execution_count": null,
      "metadata": {},
      "outputs": [
        {
          "name": "stdout",
          "output_type": "stream",
          "text": [
            "Accuracy of the model is 0.99\n"
          ]
        }
      ],
      "source": [
        "TP = 2\n",
        "TN = 985\n",
        "FP = 2\n",
        "FN = 11\n",
        "accuracy = (TP + TN) / (TP + TN + FP + FN)\n",
        "print(f\"Accuracy of the model is {accuracy:.2f}\")   \n",
        "\n",
        "# even it showing that accuracy is 0.99, it is not a good model because of high false negatives (11)"
      ]
    },
    {
      "cell_type": "markdown",
      "metadata": {
        "id": "sdgwppPGP3HO"
      },
      "source": [
        "Calculated the accuracy using the following formula:\n",
        "\n",
        "$\\text{accuracy} = \\frac{TP+TN}{TP+TN+FP+FN}$\n",
        "\n",
        "Is this a good model?\n",
        "\n",
        "<details>\n",
        "\n",
        "<summary>Hint </summary>\n",
        "\n",
        "Try to understand what it means for the actual user with each category\n",
        "\n",
        "</details>\n",
        "<br>\n",
        "<details>\n",
        "\n",
        "<summary>Answer </summary>\n",
        "\n",
        "```\n",
        "The accuracy of this model is 0.987.\n",
        "```\n",
        "\n",
        "</details>"
      ]
    },
    {
      "cell_type": "markdown",
      "metadata": {
        "id": "VaB0kmWAP3HO"
      },
      "source": [
        "---\n",
        "## 4. Line (*)\n",
        "Compute the slope $k$ and the constant term $m$ of this line using the points $A: (4,4)$ and $B: (0,1)$.  \n",
        "\n",
        "<img align=\"left\" src=\"../assets/line.png\" width=\"200\"/>"
      ]
    },
    {
      "cell_type": "code",
      "execution_count": 11,
      "metadata": {},
      "outputs": [
        {
          "name": "stdout",
          "output_type": "stream",
          "text": [
            "The slope of the line is 0.75\n"
          ]
        }
      ],
      "source": [
        "k = (1-4)/(0-4)\n",
        "print(f\"The slope of the line is {k}\")"
      ]
    },
    {
      "cell_type": "markdown",
      "metadata": {
        "id": "zQNR48oqP3HP"
      },
      "source": [
        "<details>\n",
        "\n",
        "<summary>Hint </summary>\n",
        "\n",
        "$k = \\frac{\\Delta y}{\\Delta x} = \\frac{y_2 - y_1}{x_2 - x_1}$\n",
        "\n",
        "Either plug in one point into $y = kx + m$ and solve for $m$ or read the intersection with y-axis in the graph.\n",
        "\n",
        "[Video lecture][video_line] (Swedish)\n",
        "\n",
        "[video_line]: https://www.youtube.com/watch?v=9Buuq6rkaJ0\n",
        "\n",
        "</details>\n",
        "<br>\n",
        "<details>\n",
        "\n",
        "<summary>Solution </summary>\n",
        "\n",
        "```\n",
        "k = 0.75, m = 1, so the equation for the slope is y = 0.75x + 1\n",
        "```\n",
        "\n",
        "</details>\n"
      ]
    },
    {
      "cell_type": "markdown",
      "metadata": {
        "id": "cOjmVJj3P3HP"
      },
      "source": [
        "---\n",
        "## 5. Euclidean distance (*)\n",
        "\n",
        "The Euclideam distance between the points $P_1$ and $P_2$ is the length of a line between them. Let $P_1: (3,5)$ and $P_2: (-2,4)$ and compute the distance between them."
      ]
    },
    {
      "cell_type": "code",
      "execution_count": 14,
      "metadata": {},
      "outputs": [
        {
          "name": "stdout",
          "output_type": "stream",
          "text": [
            "The distance between the points is 5.1\n"
          ]
        }
      ],
      "source": [
        "import math\n",
        "a= (-2-3)**2\n",
        "b=(4-5)**2\n",
        "distance = math.sqrt(a + b)\n",
        "accurate_distance = round(distance, 2)\n",
        "print(f\"The distance between the points is {accurate_distance}\")"
      ]
    },
    {
      "cell_type": "code",
      "execution_count": 15,
      "metadata": {},
      "outputs": [
        {
          "name": "stdout",
          "output_type": "stream",
          "text": [
            "['apple', 'mango']\n"
          ]
        }
      ],
      "source": [
        "fruits = [\"apple\", \"banana\", \"cherry\"]\n",
        "fruits.append(\"orange\")\n",
        "fruits[1] = \"mango\"\n",
        "print(fruits[:2])            # slicing\n"
      ]
    },
    {
      "cell_type": "code",
      "execution_count": 17,
      "metadata": {},
      "outputs": [
        {
          "name": "stdout",
          "output_type": "stream",
          "text": [
            "congratulation!! your email is set to send you updates\n",
            "True\n",
            "101\n",
            "Amin\n",
            "not set\n"
          ]
        }
      ],
      "source": [
        "user = {\"id\": 101, \"name\": \"Amin\", \"active\": True}\n",
        "user[\"plan\"] = \"pro\"\n",
        "user[\"email\"] = \"congratulation!! your email is set to send you updates\"\n",
        "print(user.get(\"email\", \"not set\"))\n",
        "print(user.get(\"active\", \"not set\"))\n",
        "print(user.get(\"id\", \"not set\"))\n",
        "print(user.get(\"name\", \"not set\"))\n",
        "print(user.get(\"hello\", \"not set\"))"
      ]
    },
    {
      "cell_type": "code",
      "execution_count": 38,
      "metadata": {},
      "outputs": [
        {
          "name": "stdout",
          "output_type": "stream",
          "text": [
            "Hello amin, you are eligible for senior citizen card.\n"
          ]
        }
      ],
      "source": [
        "age = int(input(\"Enter your age: \"))\n",
        "name = input(\"Enter your name: \")\n",
        "\n",
        "if age < 18:\n",
        "    print(f\"Hello {name}, you are not eligible to vote.\")\n",
        "elif age >= 50 and age < 60:\n",
        "    print(f\"Hello {name}, you are eligible for senior citizen card.\")\n",
        "elif age >= 60:\n",
        "    print(f\"Hello {name}, you are eligible for super senior citizen card.\")\n",
        "else:\n",
        "    print(f\"Hello {name}, you are eligible to vote.\")"
      ]
    },
    {
      "cell_type": "code",
      "execution_count": 39,
      "metadata": {},
      "outputs": [
        {
          "name": "stdout",
          "output_type": "stream",
          "text": [
            "0\n",
            "1\n",
            "2\n",
            "1 Sara\n",
            "2 Ali\n",
            "3 Mina\n"
          ]
        }
      ],
      "source": [
        "for i in range(3):    # 0,1,2\n",
        "    print(i)\n",
        "\n",
        "names = [\"Sara\", \"Ali\", \"Mina\"]\n",
        "for idx, n in enumerate(names, start=1):\n",
        "    print(idx, n)\n"
      ]
    },
    {
      "cell_type": "code",
      "execution_count": null,
      "metadata": {},
      "outputs": [],
      "source": []
    },
    {
      "cell_type": "code",
      "execution_count": 40,
      "metadata": {},
      "outputs": [
        {
          "name": "stdout",
          "output_type": "stream",
          "text": [
            "Hello, Amin!\n",
            "Hi, Amin!\n"
          ]
        }
      ],
      "source": [
        "def greet(name, greeting=\"Hello\"):\n",
        "    \"\"\"Return a polite greeting message.\"\"\"\n",
        "    return f\"{greeting}, {name}!\"\n",
        "\n",
        "print(greet(\"Amin\"))\n",
        "print(greet(\"Amin\", \"Hi\"))\n"
      ]
    },
    {
      "cell_type": "code",
      "execution_count": 41,
      "metadata": {},
      "outputs": [
        {
          "name": "stdout",
          "output_type": "stream",
          "text": [
            "== Daily ==\n",
            "- Service up\n",
            "- Latency OK\n",
            "meta: {'env': 'prod', 'version': '1.2.0'}\n"
          ]
        }
      ],
      "source": [
        "def report(title, *lines, **meta):\n",
        "    print(\"==\", title, \"==\")\n",
        "    for line in lines:\n",
        "        print(\"-\", line)\n",
        "    print(\"meta:\", meta)\n",
        "\n",
        "report(\"Daily\",\n",
        "       \"Service up\", \"Latency OK\",\n",
        "       env=\"prod\", version=\"1.2.0\")\n"
      ]
    },
    {
      "cell_type": "code",
      "execution_count": 8,
      "metadata": {},
      "outputs": [
        {
          "name": "stdout",
          "output_type": "stream",
          "text": [
            "Equal\n"
          ]
        }
      ],
      "source": [
        "nr_1 = 20\n",
        "nr_2 = '20 '\n",
        "nr_1 == nr_2\n",
        "if nr_1 == int(nr_2) :\n",
        "    \n",
        "    \n",
        "    \n",
        "    \n",
        "    \n",
        "    print(\"Equal\")"
      ]
    }
  ],
  "metadata": {
    "colab": {
      "include_colab_link": true,
      "provenance": []
    },
    "kernelspec": {
      "display_name": "base",
      "language": "python",
      "name": "python3"
    },
    "language_info": {
      "codemirror_mode": {
        "name": "ipython",
        "version": 3
      },
      "file_extension": ".py",
      "mimetype": "text/x-python",
      "name": "python",
      "nbconvert_exporter": "python",
      "pygments_lexer": "ipython3",
      "version": "3.13.5"
    }
  },
  "nbformat": 4,
  "nbformat_minor": 0
}
