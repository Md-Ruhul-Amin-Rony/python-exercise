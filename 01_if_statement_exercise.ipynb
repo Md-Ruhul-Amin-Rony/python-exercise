{
  "cells": [
    {
      "cell_type": "markdown",
      "metadata": {
        "colab_type": "text",
        "id": "view-in-github"
      },
      "source": [
        "<a href=\"https://colab.research.google.com/github/aleylani/Python-AI25/blob/main/exercises/01_if_statement_exercise.ipynb\" target=\"_parent\"><img src=\"https://colab.research.google.com/assets/colab-badge.svg\" alt=\"Open In Colab\"/></a>"
      ]
    },
    {
      "cell_type": "markdown",
      "metadata": {
        "id": "V_XJ764PQBl5"
      },
      "source": [
        "# if statements exercises\n",
        "\n",
        "---\n",
        "These are introductory exercises in Python with focus in **if** statement.\n",
        "\n",
        "<p class = \"alert alert-info\" role=\"alert\"><b>Remember</b> to use <b>descriptive variable names</b> in order to get readable code </p>\n",
        "\n",
        "<p class = \"alert alert-info\" role=\"alert\"><b>Remember</b> to format your answers in a neat way using <b>f-strings</b>\n",
        "\n",
        "<p class = \"alert alert-info\" role=\"alert\"><b>Remember</b> to format your input questions in a pedagogical way to guide the user\n",
        "\n",
        "The number of stars (\\*), (\\*\\*), (\\*\\*\\*) denotes the difficulty level of the task\n",
        "\n",
        "---"
      ]
    },
    {
      "cell_type": "markdown",
      "metadata": {
        "id": "aBBTSK3GQBl6"
      },
      "source": [
        "## 1. Check sign (*)\n",
        "\n",
        "Ask the user to input a number and check if this number is **positive**, **negative** or **zero** and print it out."
      ]
    },
    {
      "cell_type": "code",
      "execution_count": 6,
      "metadata": {},
      "outputs": [
        {
          "name": "stdout",
          "output_type": "stream",
          "text": [
            "your given number is zero\n"
          ]
        }
      ],
      "source": [
        "number = int(input(\"Enter a number: \"))\n",
        "if number > 0 :\n",
        "    print(\"your given number is positive\")\n",
        "elif number < 0 :\n",
        "    print(\"your given number is negative\")\n",
        "else  :\n",
        "    print(\"your given number is zero\")"
      ]
    },
    {
      "cell_type": "markdown",
      "metadata": {
        "id": "FEwYSDEWQBl7"
      },
      "source": [
        "---\n",
        "## 2. Smallest (*)\n",
        "Ask the user to input two numbers and check which one is the smallest and print it out.   "
      ]
    },
    {
      "cell_type": "code",
      "execution_count": 19,
      "metadata": {},
      "outputs": [
        {
          "name": "stdout",
          "output_type": "stream",
          "text": [
            "Second number is the smallest\n"
          ]
        }
      ],
      "source": [
        "number1 = int (input(\"Enter first number: \"))\n",
        "number2 = int (input(\"Enter second number: \")) \n",
        "if number1 > number2:\n",
        "    print(\"Second number is the smallest\")\n",
        "elif number1 < number2 :\n",
        "    print(\"First number is the smallest\")\n",
        "else :\n",
        "    print(\"Both numbers are equal\")"
      ]
    },
    {
      "cell_type": "markdown",
      "metadata": {
        "id": "57poR3jBQBl7"
      },
      "source": [
        "---\n",
        "## 3. Right angle (*)\n",
        "\n",
        "Ask the user to input three angles and check if the triangle has a right angle. Your code should make sure that all three angles are valid and make up a triangle.\n",
        "\n",
        "<img align=\"left\" src=\"../assets/triangle_angles.png\" width=\"200\"/>"
      ]
    },
    {
      "cell_type": "code",
      "execution_count": 18,
      "metadata": {},
      "outputs": [
        {
          "name": "stdout",
          "output_type": "stream",
          "text": [
            "The angles form a triangle\n",
            "The triangle is right angled\n"
          ]
        }
      ],
      "source": [
        "angle_a = int(input(\"Enter first angle: \"))\n",
        "angle_b = int(input(\"Enter second angle: \"))\n",
        "angle_c = int(input(\"Enter third angle: \"))\n",
        "if angle_a + angle_b + angle_c == 180 and angle_a > 0 and angle_b > 0 and angle_c > 0 :\n",
        "    print(\"The angles form a triangle\")\n",
        "    if 90 in (angle_a, angle_b, angle_c) :\n",
        "        print(\"The triangle is right angled\")\n",
        "    else:\n",
        "        print(\"The triangle is not right angled\")\n",
        "else :\n",
        "    print(\"The angles do not form a triangle\")\n"
      ]
    },
    {
      "cell_type": "markdown",
      "metadata": {
        "id": "nRxIy93lQBl7"
      },
      "source": [
        "----\n",
        "## 4. Medicine (*)\n",
        "\n",
        "The information in the following table is stated in a medicine package. Also it is stated that for children weight is more important than age.\n",
        "\n",
        "<table align=\"left\">\n",
        "<thead>\n",
        "    <tr>\n",
        "        <th></th>\n",
        "        <th>Age</th>\n",
        "        <th>Number of pills</th>\n",
        "    </tr>\n",
        "</thead>\n",
        "\n",
        "<tbody>\n",
        "  <tr>\n",
        "    <td>Adults & adolescent <br>over 40 kg</td>\n",
        "    <td>over 12 years</td>\n",
        "    <td>1-2</td>\n",
        "  </tr>\n",
        "\n",
        "  <tr>\n",
        "    <td>Children 26-40 kg</td>\n",
        "    <td>7-12 years</td>\n",
        "    <td>1/2-1</td>\n",
        "  </tr>\n",
        "\n",
        "  <tr>\n",
        "    <td>Children 15-25 kg</td>\n",
        "    <td>3-7 years</td>\n",
        "    <td>1/2</td>\n",
        "  </tr>\n",
        "</tbody>\n",
        "</table>"
      ]
    },
    {
      "cell_type": "markdown",
      "metadata": {
        "id": "EVUjoVVzQBl7"
      },
      "source": [
        "Let the user input an **age** and a **weight**, the program should recommend the number of pills for the user."
      ]
    },
    {
      "cell_type": "code",
      "execution_count": null,
      "metadata": {},
      "outputs": [],
      "source": [
        "age = int(input(\"Enter your age: \"))\n",
        "weight = float(input(\"Enter your weight in kg: \"))\n",
        "if age > 12 and weight > 40:\n",
        "    print(\"You can take 1-2 number of pills\")\n",
        "elif age >= 7 and  age <= 12 and weight >= 26 and weight <= 40:\n",
        "    print(\"You can take 1/2 till 1 number of pill\")\n",
        "elif age >=3 and age <=7 and weight >= 15 and weight <= 25:\n",
        "    print(\"You can take  1/2 number of pill\")"
      ]
    },
    {
      "cell_type": "markdown",
      "metadata": {
        "id": "yUEv0BwKQBl8"
      },
      "source": [
        "---\n",
        "## 5. Divisible (*)\n",
        "Let the user input a number. Check if the number is\n",
        "<ol type=\"a\">\n",
        "  <li>even or odd</li>\n",
        "  <li>is divisible by 5</li>\n",
        "  <li>is divisble by 5 and odd</li>\n",
        "</ol>"
      ]
    },
    {
      "cell_type": "code",
      "execution_count": 21,
      "metadata": {},
      "outputs": [
        {
          "name": "stdout",
          "output_type": "stream",
          "text": [
            "The number is odd\n"
          ]
        }
      ],
      "source": [
        "number = int(input(\"Enter a number: \"))\n",
        "if number % 2 == 0:\n",
        "    print(\"The number is even\")\n",
        "else:\n",
        "    print(\"The number is odd\")\n",
        "if number % 5 == 0: \n",
        "        print(\"The number is divisible by 5\")\n",
        "        if number % 2 != 0:\n",
        "            print(\"The number is odd and divisible by 5\")"
      ]
    },
    {
      "cell_type": "markdown",
      "metadata": {
        "id": "1loU66d0QBl8"
      },
      "source": [
        "---\n",
        "## 6. Luggage size (*)\n",
        "\n",
        "The maximum allowed luggage size for boarding an airplane is:\n",
        "- weight: 8kg\n",
        "- dimensions: 55x40x23cm (length x width x height)\n",
        "\n",
        "Let the user input weight, length, width and height of the luggage. The program should check if the luggage is allowed or not."
      ]
    },
    {
      "cell_type": "code",
      "execution_count": null,
      "metadata": {},
      "outputs": [],
      "source": [
        "length = float(input(\"Enter the length of the luggage: \"))\n",
        "width = float(input(\"Enter the width of the luggage: \"))\n",
        "height = float(input(\"Enter the height of the luggage: \"))\n",
        "weight = float(input(\"Enter the weight of the luggage in kg: \"))\n",
        "if length <= 55 and width <= 40 and height <= 23 and weight <= 8 :\n",
        "    print(\"Luggage is allowed\")\n",
        "else :\n",
        "    print(\"Luggage is not allowed\")\n"
      ]
    },
    {
      "cell_type": "code",
      "execution_count": 22,
      "metadata": {},
      "outputs": [
        {
          "name": "stdout",
          "output_type": "stream",
          "text": [
            "Hello, Alice!\n",
            "Hi, Bob!\n"
          ]
        }
      ],
      "source": [
        "def greet(name, greeting=\"Hello\"):\n",
        "    \"\"\"Return a greeting message.\"\"\"\n",
        "    return f\"{greeting}, {name}!\"\n",
        "print(greet(\"Alice\"))  # Uses default greeting\n",
        "print(greet(\"Bob\", \"Hi\"))  # Uses custom greeting   "
      ]
    },
    {
      "cell_type": "code",
      "execution_count": 38,
      "metadata": {},
      "outputs": [
        {
          "name": "stdout",
          "output_type": "stream",
          "text": [
            "== Daily Report ==\n",
            "- Line 1 -\n",
            "- Line 2 -\n",
            "Metadata: {'author': 'Alice', 'date': '2023-10-01'}\n"
          ]
        }
      ],
      "source": [
        "def report(title, *lines, **meta):\n",
        "    \"\"\"Generate a report with a title, lines, and metadata.\"\"\"\n",
        "    print(\"==\", title, \"==\")\n",
        "    for line in lines:\n",
        "        print(\"-\", line, \"-\")\n",
        "    print(\"Metadata:\", meta)\n",
        "report(\"Daily Report\", \"Line 1\", \"Line 2\",\n",
        "           author=\"Alice\", date=\"2023-10-01\")"
      ]
    },
    {
      "cell_type": "code",
      "execution_count": null,
      "metadata": {},
      "outputs": [
        {
          "name": "stdout",
          "output_type": "stream",
          "text": [
            "Hello, Lisa!, Hello, Katrina!, Hello, John!, Hello, Michael!, Hello, Tom!, "
          ]
        }
      ],
      "source": [
        "studenter =['Lisa', 'Katrina', 'John', 'Michael', 'Tom']\n",
        "for student in studenter:\n",
        "    print(f\"Hello {student}!,\", end=' ') "
      ]
    },
    {
      "cell_type": "code",
      "execution_count": 42,
      "metadata": {},
      "outputs": [
        {
          "name": "stdout",
          "output_type": "stream",
          "text": [
            "i\n",
            "s\n",
            "a is the second letter in Lisa\n"
          ]
        }
      ],
      "source": [
        "for letter in studenter[0]:\n",
        "    if letter == 'L':\n",
        "        pass          # viktitgt  funktion , använd för att göra ingeting\n",
        "\n",
        "    elif letter == 'a':\n",
        "        print(f\"{letter} is the second letter in {studenter[0]}\")\n",
        "    else:\n",
        "        print(letter)\n"
      ]
    },
    {
      "cell_type": "code",
      "execution_count": 43,
      "metadata": {},
      "outputs": [
        {
          "name": "stdout",
          "output_type": "stream",
          "text": [
            "1. Hello Lisa!\n",
            "2. Hello Katrina!\n",
            "3. Hello John!\n",
            "4. Hello Michael!\n",
            "5. Hello Tom!\n"
          ]
        }
      ],
      "source": [
        "for i, student in enumerate(studenter, start=1):\n",
        "    print(f\"{i}. Hello {student}!\")"
      ]
    },
    {
      "cell_type": "code",
      "execution_count": 45,
      "metadata": {},
      "outputs": [
        {
          "name": "stdout",
          "output_type": "stream",
          "text": [
            "['Lisa', 'Katrina', 'John', 'Michael', 'Tom', 'amin', 'boli']\n"
          ]
        }
      ],
      "source": [
        "studenter.append(input(\"Enter a new student name: \"))\n",
        "print(studenter)"
      ]
    },
    {
      "cell_type": "code",
      "execution_count": 49,
      "metadata": {},
      "outputs": [
        {
          "name": "stdout",
          "output_type": "stream",
          "text": [
            "Class participants: ['amin', 'ruhul', 'rohaan', 'rahul', 'ibadat', 'yeasmin', 'kalam', 'balam', 'moinul', 'kobi']\n"
          ]
        }
      ],
      "source": [
        "studenter = []\n",
        "klass_deltagare = int(input(\"How many students are in the class? \"))\n",
        "for i in range(klass_deltagare):\n",
        "    studenter.append(input(f\"Enter the name of student {i+1}: \"))\n",
        "print(\"Class participants:\", studenter)"
      ]
    },
    {
      "cell_type": "code",
      "execution_count": null,
      "metadata": {},
      "outputs": [
        {
          "name": "stdout",
          "output_type": "stream",
          "text": [
            "['amin', 'ruhul', 'rohaan', 'rahul', 'ibadat', 'yeasmin', 'kalam', 'balam', 'moinul', 'kobi']\n",
            "rahul\n",
            "kobi\n",
            "['ruhul', 'rohaan', 'rahul']\n"
          ]
        }
      ],
      "source": [
        "print (studenter)\n",
        "print(studenter[3]) # så här extraherar vi ett enstaka element\n",
        "print(studenter[-1]) # sista elementet\n",
        "print(studenter[1:4]) # slicing, extraherar flera element menar index 1 till 4"
      ]
    },
    {
      "cell_type": "code",
      "execution_count": null,
      "metadata": {},
      "outputs": [],
      "source": []
    },
    {
      "cell_type": "code",
      "execution_count": 55,
      "metadata": {},
      "outputs": [
        {
          "name": "stdout",
          "output_type": "stream",
          "text": [
            "['alpha', 'beta', 'delta', 'epsilon', 'gamma']\n"
          ]
        }
      ],
      "source": [
        "greek_letters = ['beta', 'alpha', 'gamma', 'delta', 'epsilon']\n",
        "print(sorted(greek_letters))  # Sorterar utan att ändra original listan\n",
        "greek_letters.sort()           # Sorterar och ändrar original listan"
      ]
    },
    {
      "cell_type": "code",
      "execution_count": 58,
      "metadata": {},
      "outputs": [
        {
          "name": "stdout",
          "output_type": "stream",
          "text": [
            "[36, 64, 100]\n",
            "[1, 4, 9, 16, 25, 36, 49, 64, 81]\n"
          ]
        }
      ],
      "source": [
        "ineffective_kvardat_list = [1, 2, 3, 4, 5, 14, 29, 36, 49, 64, 81, 100] # manual handwritten way\n",
        "print([x for x in ineffective_kvardat_list if x % 2 == 0 and x > 20])  # Effektiv lista med list comprehension\n",
        "\n",
        "effective_kvardat_list = [x**2 for x in range(1, 10) ]\n",
        "print(effective_kvardat_list)"
      ]
    },
    {
      "cell_type": "code",
      "execution_count": 60,
      "metadata": {},
      "outputs": [
        {
          "name": "stdout",
          "output_type": "stream",
          "text": [
            "[2, 7, 12, 17, 22, 27, 32, 37, 42, 47, 52, 57, 62, 67, 72, 77, 82, 87, 92, 97, 102, 107, 112, 117, 122, 127, 132, 137, 142, 147, 152]\n"
          ]
        }
      ],
      "source": [
        "# #  Y =  5x +2;\n",
        "#Anta att vi vill beräkna alla y-värden för x mellan 0 och 30\n",
        "Y_values = [5*x+2 for x in range(0,31)]\n",
        "print(Y_values)\n"
      ]
    },
    {
      "cell_type": "code",
      "execution_count": 81,
      "metadata": {},
      "outputs": [
        {
          "data": {
            "image/png": "[encoded data removed]",
            "text/plain": [
              "<Figure size 640x480 with 1 Axes>"
            ]
          },
          "metadata": {},
          "output_type": "display_data"
        }
      ],
      "source": [
        "\n",
        "import matplotlib.pyplot as plt\n",
        "\n",
        "plt.plot(range(0, 31), Y_values)\n",
        "plt.xlabel(\"Here is x value\")\n",
        "plt.ylabel('Here is y value')\n",
        "plt.title('Graf av y = 5x + 2')\n",
        "plt.grid()\n",
        "plt.show()"
      ]
    },
    {
      "cell_type": "code",
      "execution_count": null,
      "metadata": {},
      "outputs": [],
      "source": []
    },
    {
      "cell_type": "code",
      "execution_count": null,
      "metadata": {},
      "outputs": [],
      "source": []
    }
  ],
  "metadata": {
    "colab": {
      "include_colab_link": true,
      "provenance": []
    },
    "kernelspec": {
      "display_name": "programming",
      "language": "python",
      "name": "python3"
    },
    "language_info": {
      "codemirror_mode": {
        "name": "ipython",
        "version": 3
      },
      "file_extension": ".py",
      "mimetype": "text/x-python",
      "name": "python",
      "nbconvert_exporter": "python",
      "pygments_lexer": "ipython3",
      "version": "3.13.5"
    }
  },
  "nbformat": 4,
  "nbformat_minor": 0
}
