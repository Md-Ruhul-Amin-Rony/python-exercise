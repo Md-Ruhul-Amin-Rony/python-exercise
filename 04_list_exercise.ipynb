{
  "cells": [
    {
      "cell_type": "markdown",
      "metadata": {
        "colab_type": "text",
        "id": "view-in-github"
      },
      "source": [
        "<a href=\"https://colab.research.google.com/github/aleylani/Python-AI24/blob/main/exercises/04_list_exercise.ipynb\" target=\"_parent\"><img src=\"https://colab.research.google.com/assets/colab-badge.svg\" alt=\"Open In Colab\"/></a>"
      ]
    },
    {
      "cell_type": "markdown",
      "metadata": {
        "id": "6uOASVKqPqNP"
      },
      "source": [
        "# list exercises\n",
        "\n",
        "---\n",
        "These are introductory exercises in Python with focus in **lists**.\n",
        "\n",
        "<p class = \"alert alert-info\" role=\"alert\"><b>Remember</b> to use <b>descriptive variable names</b> in order to get readable code </p>\n",
        "\n",
        "<p class = \"alert alert-info\" role=\"alert\"><b>Remember</b> to format your answers in a neat way using <b>f-strings</b>\n",
        "\n",
        "<p class = \"alert alert-info\" role=\"alert\"><b>Remember</b> to format your input questions in a pedagogical way to guide the user\n",
        "\n",
        "The number of stars (\\*), (\\*\\*), (\\*\\*\\*) denotes the difficulty level of the task\n",
        "\n",
        "---"
      ]
    },
    {
      "cell_type": "markdown",
      "metadata": {
        "id": "RuoOFel1PqNR"
      },
      "source": [
        "## 1. Dice rolls (*)\n",
        "\n",
        "Simulate 10 dice rolls and **append** the rolls to a list or use **list comprehension**.\n",
        "\n",
        "&nbsp; a) &nbsp; sort the list in **ascending** order (*)\n",
        "\n",
        "&nbsp; b) &nbsp; sort the list in **descending** order (*)\n",
        "\n",
        "&nbsp; c) &nbsp; find the **maximum** and **minimum** value in the list (*)\n",
        "\n",
        "\n",
        "<details>\n",
        "\n",
        "<summary>Answer </summary>\n",
        "\n",
        "a)\n",
        "```\n",
        "Ascending order: [1, 1, 2, 3, 4, 4, 4, 5, 6, 6]\n",
        "```\n",
        "\n",
        "b)\n",
        "```\n",
        "Descending order: [6, 6, 5, 4, 4, 4, 3, 2, 1, 1]\n",
        "```\n",
        "\n",
        "c)\n",
        "```\n",
        "Maximum: 6\n",
        "Minimum: 1\n",
        "```\n",
        "\n",
        "</details>\n",
        "\n",
        "\n"
      ]
    },
    {
      "cell_type": "code",
      "execution_count": 41,
      "metadata": {},
      "outputs": [
        {
          "name": "stdout",
          "output_type": "stream",
          "text": [
            "[3, 6, 3, 1, 3, 2, 6, 5, 5, 3]\n",
            "[1, 2, 3, 3, 3, 3, 5, 5, 6, 6]\n",
            "[6, 6, 5, 5, 3, 3, 3, 3, 2, 1]\n",
            "6\n",
            "1\n"
          ]
        }
      ],
      "source": [
        "\n",
        "import random\n",
        "dice_rolls = 10;\n",
        "dice_rolls = [random.randint(1, 6) for _ in range(0,10)];\n",
        "print(dice_rolls)\n",
        "ascending = sorted(dice_rolls);\n",
        "print(ascending)\n",
        "descending = sorted(dice_rolls, reverse=True);\n",
        "print(descending)\n",
        "max_value = max(dice_rolls);\n",
        "print(max_value)\n",
        "min_value = min(dice_rolls);\n",
        "print(min_value)\n"
      ]
    },
    {
      "cell_type": "markdown",
      "metadata": {
        "id": "7zPeNe1TPqNR"
      },
      "source": [
        "---\n",
        "## 2. Food menu (*)\n",
        "\n",
        "Create a:  \n",
        "\n",
        "&nbsp; a) &nbsp; **list** with the following elements: \"vegetarisk lasagne\", \"spaghetti\", \"fisk\", \"grönsakssoppa\", \"pannkakor\". (*)\n",
        "\n",
        "&nbsp; b) &nbsp; **list** with the weekdays (*)\n",
        "\n",
        "&nbsp; c) &nbsp; create a food menu with each day corresponding to each food item and print it out. (*)\n",
        "\n",
        "<details>\n",
        "\n",
        "<summary>Answer</summary>\n",
        "\n",
        "c)\n",
        "```\n",
        "Bambameny\n",
        "Mån: vegetarisk lasagne\n",
        "Tis: spaghetti\n",
        "Ons: fisk\n",
        "Tor: grönsakssoppa\n",
        "Fre: pannkakor\n",
        "```\n",
        "\n",
        "</details>"
      ]
    },
    {
      "cell_type": "code",
      "execution_count": 42,
      "metadata": {},
      "outputs": [
        {
          "name": "stdout",
          "output_type": "stream",
          "text": [
            "måndag: vegetariska lasagne\n",
            "tisdag: pasta bolognese\n",
            "onsdag: kycklinggryta\n",
            "torsdag: tacos\n",
            "fredag: sushi\n"
          ]
        }
      ],
      "source": [
        "elements = [\"vegetariska lasagne\", \"pasta bolognese\", \"kycklinggryta\", \"tacos\", \"sushi\"]\n",
        "weekdays = [\"måndag\", \"tisdag\", \"onsdag\", \"torsdag\", \"fredag\"]\n",
        "for i in range(len(weekdays)):\n",
        "    print(f\"{weekdays[i]}: {elements[i]}\")"
      ]
    },
    {
      "cell_type": "markdown",
      "metadata": {
        "id": "EgiDRMifPqNR"
      },
      "source": [
        "---\n",
        "## 3. Squares (*)\n",
        "\n",
        "&nbsp; a) &nbsp; Use **list comprehension** to create a list of squares from -10 to 10 (*)\n",
        "\n",
        "&nbsp; a) &nbsp; Plot this list using **matplotlib**. (*)\n",
        "\n",
        "<details>\n",
        "\n",
        "<summary>Answer</summary>\n",
        "\n",
        "a)\n",
        "```\n",
        "[100, 81, 64, 49, 36, 25, 16, 9, 4, 1, 0, 1, 4, 9, 16, 25, 36, 49, 64, 81, 100]\n",
        "```\n",
        "\n",
        "b)\n",
        "\n",
        "<img align=\"left\" src=\"../assets/x^2_graph.png\" width=\"300\"/>\n",
        "</details>"
      ]
    },
    {
      "cell_type": "code",
      "execution_count": 46,
      "metadata": {},
      "outputs": [
        {
          "name": "stdout",
          "output_type": "stream",
          "text": [
            "[100, 81, 64, 49, 36, 25, 16, 9, 4, 1, 0, 1, 4, 9, 16, 25, 36, 49, 64, 81, 100]\n"
          ]
        },
        {
          "data": {
            "image/png": "[encoded data removed]",
            "text/plain": [
              "<Figure size 640x480 with 1 Axes>"
            ]
          },
          "metadata": {},
          "output_type": "display_data"
        }
      ],
      "source": [
        "square_list = [x**2 for x in range(-10,11)]\n",
        "print(square_list)\n",
        "import matplotlib.pyplot as plt\n",
        "plt.plot(square_list)\n",
        "plt.title(\"Square Numbers\")\n",
        "plt.xlabel(\"Input\")\n",
        "plt.ylabel(\"Output\")\n",
        "plt.grid()\n",
        "plt.show()"
      ]
    },
    {
      "cell_type": "markdown",
      "metadata": {
        "id": "4U54qkB5PqNS"
      },
      "source": [
        "---\n",
        "## 4. Chessboard (**)\n",
        "\n",
        "&nbsp; a) &nbsp; Create this list using **list comprehension**: (*)\n",
        "\n",
        "```python\n",
        "['A1', 'B1', 'C1', 'D1', 'E1', 'F1', 'G1', 'H1']\n",
        "```\n",
        "\n",
        "&nbsp; b) &nbsp; Create a 2D list to hold the coordinates in a chessboard. (**)\n",
        "\n",
        "<details>\n",
        "\n",
        "<summary>Hint</summary>\n",
        "\n",
        "b) Use **f-string** and create a list of characters with:\n",
        "\n",
        "```python\n",
        "list(\"ABCDEFGH)\n",
        "```\n",
        "\n",
        "b) One option is to use nested list comprehension where one for-loop creates the first list and the other creates several of the first list\n",
        "\n",
        "</details>\n",
        "\n",
        "\n",
        "<details>\n",
        "\n",
        "<summary>Answer</summary>\n",
        "\n",
        "b)\n",
        "```\n",
        "[['A1', 'B1', 'C1', 'D1', 'E1', 'F1', 'G1', 'H1'],\n",
        " ['A2', 'B2', 'C2', 'D2', 'E2', 'F2', 'G2', 'H2'],\n",
        " ['A3', 'B3', 'C3', 'D3', 'E3', 'F3', 'G3', 'H3'],\n",
        " ['A4', 'B4', 'C4', 'D4', 'E4', 'F4', 'G4', 'H4'],\n",
        " ['A5', 'B5', 'C5', 'D5', 'E5', 'F5', 'G5', 'H5'],\n",
        " ['A6', 'B6', 'C6', 'D6', 'E6', 'F6', 'G6', 'H6'],\n",
        " ['A7', 'B7', 'C7', 'D7', 'E7', 'F7', 'G7', 'H7'],\n",
        " ['A8', 'B8', 'C8', 'D8', 'E8', 'F8', 'G8', 'H8']]\n",
        "```\n",
        "\n",
        "</details>"
      ]
    },
    {
      "cell_type": "markdown",
      "metadata": {
        "id": "5rzM8OsCPqNS"
      },
      "source": [
        "---\n",
        "## 5. Dice rolls convergence (**)\n",
        "\n",
        "Simulate:\n",
        "\n",
        "&nbsp; a) &nbsp; 100 dice rolls and count the number of outcome six. (*)\n",
        "\n",
        "&nbsp; b) &nbsp; 10, 100, 1000, 10000, 100000, 1000000 dice rolls. Count the number of outcome six in each simulation and store it in a list. Compute the probability of outcome six in each simulation. (**)\n",
        "\n",
        "&nbsp; c) &nbsp; Use matplotlib to plot this list. (*)\n",
        "\n",
        "<details>\n",
        "\n",
        "<summary>Hint </summary>\n",
        "\n",
        "Use this code for plot settings:\n",
        "\n",
        "```python\n",
        "plt.plot(probability_six, '-*')\n",
        "plt.title(\"Probability of six for different number of rolls\")\n",
        "plt.xticks([0,1,2,3,4,5], num_rolls);\n",
        "plt.xlabel(\"Number of dice rolls\")\n",
        "plt.ylabel(\"Probability\")\n",
        "\n",
        "```\n",
        "</details>\n",
        "\n",
        "<details>\n",
        "\n",
        "<summary>Answer </summary>\n",
        "\n",
        "a)\n",
        "```\n",
        "The number of outcome six in 100 dice rolls is: 17\n",
        "```\n",
        "\n",
        "b)\n",
        "```\n",
        "Count number of six: [1, 21, 161, 1642, 16560, 166406]\n",
        "P(six) = [0.1, 0.21, 0.161, 0.1642, 0.1656, 0.1664]\n",
        "```\n",
        "\n",
        "c) Note that the graph changes due to random simulation. To reproduce this result, use\n",
        "\n",
        "```python\n",
        "random.seed(1)\n",
        "```\n",
        "\n",
        "<img align=\"left\" src=\"../assets/probability_six_graph.png\" width=\"300\"/>\n",
        "\n",
        "</details>"
      ]
    },
    {
      "cell_type": "markdown",
      "metadata": {
        "id": "HZDs4ddWPqNS"
      },
      "source": [
        "---\n",
        "## 6. Monte Carlo simulation (***)\n",
        "\n",
        "&nbsp; a) Simulate 5000 uniformly distributed points between -1 and 1, $X\\sim U(-1,1)$. Now calculate the Euclidean distances between each point and the origin (0,0), $d_i = \\sqrt{x_i^2 + y_i^2}$. For $d_i < 1$ plot the point with one color, and for $d_i > 1$ plot the point in another color, $i = \\{1,\\ldots, 5000\\}$.  (**)\n",
        "\n",
        "&nbsp; b) Calculate the fraction between number of inner points and number of outer points. What do you this will converge to when number of points reaches infinity? (**)\n",
        "\n",
        "\n",
        "<details>\n",
        "\n",
        "<summary>Hint</summary>\n",
        "\n",
        "a)\n",
        "\n",
        "Try solve this task with pen and paper before approaching to code it.\n",
        "\n",
        "b)\n",
        "\n",
        "Think in terms of theoretical areas. Also try to increase the number of simulated points, to see if you find convergence.\n",
        "\n",
        "</details>\n",
        "\n",
        "<details>\n",
        "\n",
        "<summary>Answer</summary>\n",
        "\n",
        "\n",
        "a)\n",
        "\n",
        "<img src=\"../assets/MC_simulation_5k.png\" width = 300>\n",
        "\n",
        "\n",
        "b)\n",
        "\n",
        "0.7908\n",
        "\n",
        "No answer here, try to prove it theoretically.\n",
        "\n",
        "\n",
        "</details>"
      ]
    },
    {
      "cell_type": "markdown",
      "metadata": {
        "id": "01XV62BEPqNT"
      },
      "source": [
        "---\n",
        "## 7. A cute rabbit among two ferocious snakes (***)\n",
        "\n",
        "There are three identical doors, behind two of them, there are ferocious snakes and behind one of them is a cute little rabbit. Your aim is to pick a door and get the cute rabbit. You start picking one door randomly and suddenly another door opens and snake slithers away *pssss*. Now you have a choice to either stay with your door or change to the remaining door.\n",
        "\n",
        "<img src=\"../assets/snakes_rabbits.png\" width = 200>\n",
        "\n",
        "&nbsp; a) What is your choice and why? (**)\n",
        "\n",
        "&nbsp; b) Randomly assign which door has the rabbit, and randomly pick an initial door. Now simulate 10, 100, 1000, 10000, 100000, 1000000 times for staying and for switching doors. Calculate the proportion of finding the rabbits for each set of simulations. Plot the results (**)\n",
        "\n",
        "\n",
        "<details>\n",
        "\n",
        "<summary>Hint</summary>\n",
        "\n",
        "a)\n",
        "\n",
        "Try to reason using probability.\n",
        "\n",
        "\n",
        "</details>\n",
        "\n",
        "<details>\n",
        "\n",
        "<summary>Answer</summary>\n",
        "\n",
        "\n",
        "a)\n",
        "\n",
        "You will simulate the answer in b).\n",
        "\n",
        "b)\n",
        "\n",
        "<img src=\"../assets/mh_simulations.png\" width = 300>\n",
        "\n",
        "\n",
        "\n",
        "</details>"
      ]
    },
    {
      "cell_type": "markdown",
      "metadata": {},
      "source": []
    }
  ],
  "metadata": {
    "colab": {
      "include_colab_link": true,
      "provenance": []
    },
    "kernelspec": {
      "display_name": "programming",
      "language": "python",
      "name": "python3"
    },
    "language_info": {
      "codemirror_mode": {
        "name": "ipython",
        "version": 3
      },
      "file_extension": ".py",
      "mimetype": "text/x-python",
      "name": "python",
      "nbconvert_exporter": "python",
      "pygments_lexer": "ipython3",
      "version": "3.13.5"
    }
  },
  "nbformat": 4,
  "nbformat_minor": 0
}
