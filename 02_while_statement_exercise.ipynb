{
  "cells": [
    {
      "cell_type": "markdown",
      "metadata": {
        "colab_type": "text",
        "id": "view-in-github"
      },
      "source": [
        "<a href=\"https://colab.research.google.com/github/aleylani/Python-AI25/blob/main/exercises/02_while_statement_exercise.ipynb\" target=\"_parent\"><img src=\"https://colab.research.google.com/assets/colab-badge.svg\" alt=\"Open In Colab\"/></a>"
      ]
    },
    {
      "cell_type": "markdown",
      "metadata": {
        "id": "Po7swMETQNgZ"
      },
      "source": [
        "## 1. Count numbers (*)\n",
        "\n",
        "Use a **while** statement to count from -10 to 10 with one increment.\n",
        "\n",
        "<details>\n",
        "\n",
        "<summary>Hint </summary>\n",
        "\n",
        "```python\n",
        "\n",
        "i += 1 # adds one and assigns it to i, equivalent to i = i + 1\n",
        "```\n",
        "\n",
        "</details>\n",
        "<br>\n",
        "<details>\n",
        "\n",
        "<summary>Answer </summary>\n",
        "\n",
        "```\n",
        "\n",
        "-10 -9 -8 -7 -6 -5 -4 -3 -2 -1 0 1 2 3 4 5 6 7 8 9 10\n",
        "```\n",
        "\n",
        "</details>\n"
      ]
    },
    {
      "cell_type": "markdown",
      "metadata": {
        "id": "bt8iHnYRQNga"
      },
      "source": [
        "---\n",
        "## 2. Arithmetic sum (*)\n",
        "Use a **while** statement to compute the following sums:\n",
        "\n",
        "&nbsp; a) &nbsp; $\\text{sum} = 1 + 2 + \\ldots + 99+ 100$\n",
        "\n",
        "&nbsp; b) &nbsp; $\\text{sum} = 1 + 3 + 5 + \\ldots + 97 + 99$\n",
        "\n",
        "<details>\n",
        "\n",
        "<summary>Answer </summary>\n",
        "\n",
        "```\n",
        "a) 1 + 2 + ... + 99 + 100 = 5050\n",
        "\n",
        "b) 1 + 3 + 5 +...+ 97 + 99 = 2500\n",
        "```\n",
        "\n",
        "</details>"
      ]
    },
    {
      "cell_type": "code",
      "execution_count": 1,
      "metadata": {},
      "outputs": [
        {
          "name": "stdout",
          "output_type": "stream",
          "text": [
            "5050\n"
          ]
        }
      ],
      "source": [
        "n = 0\n",
        "total = 0\n",
        "while n < 101:\n",
        "    total = total + n\n",
        "    n = n + 1\n",
        "print(total)\n"
      ]
    },
    {
      "cell_type": "code",
      "execution_count": 4,
      "metadata": {},
      "outputs": [
        {
          "name": "stdout",
          "output_type": "stream",
          "text": [
            "2500\n"
          ]
        }
      ],
      "source": [
        "n = 1\n",
        "total = 0\n",
        "while n < 100:\n",
        "    total = total + n\n",
        "    n = n + 2\n",
        "print(total)"
      ]
    },
    {
      "cell_type": "code",
      "execution_count": null,
      "metadata": {},
      "outputs": [],
      "source": []
    },
    {
      "cell_type": "markdown",
      "metadata": {
        "id": "NxECsk35QNgb"
      },
      "source": [
        "---\n",
        "## 3. Guess number game (*)\n",
        "&nbsp; a) &nbsp; Create a guessing number game following this flow chart:\n",
        "\n",
        "<img align=\"left\" src=\"../assets/guessing_game.png\" width=\"300\"/>"
      ]
    },
    {
      "cell_type": "markdown",
      "metadata": {
        "id": "ZKtnK2rOQNgc"
      },
      "source": [
        "&nbsp; b) &nbsp; Make an algorithm to automatically guess the correct number. Can you optimize to get as few guesses as possible? (**)\n",
        "\n",
        "<details>\n",
        "\n",
        "<summary>Hint </summary>\n",
        "\n",
        "&nbsp; b) &nbsp; Half your testing number each time\n",
        "\n",
        "</details>"
      ]
    },
    {
      "cell_type": "markdown",
      "metadata": {
        "id": "D3P-6PvDQNgc"
      },
      "source": [
        "---\n",
        "## 4. Multiplication game (*)\n",
        "&nbsp; a) &nbsp; Create a multiplication game following this flow chart:\n",
        "\n",
        "<img align=\"left\" src=\"../assets/Multiplication_game.png\" width=\"300\"/>"
      ]
    },
    {
      "cell_type": "markdown",
      "metadata": {
        "id": "ScWfGvWxQNgc"
      },
      "source": [
        "&nbsp; b) &nbsp; Add a menu for choosing difficulty level of the game\n",
        "\n",
        "&nbsp; c) &nbsp; Feel free to extend this program with features of your choice."
      ]
    },
    {
      "cell_type": "markdown",
      "metadata": {
        "id": "pnm3fwjJQNgd"
      },
      "source": [
        "---\n",
        "## 5. Check convergence (**)\n",
        "Use a while statement to compute the following sums:\n",
        "\n",
        "&nbsp; a) &nbsp; $\\text{sum} = 1 + \\frac{1}{2} + \\frac{1}{4} + \\frac{1}{8} + \\dots + \\frac{1}{2^n}$\n",
        "\n",
        "&nbsp; b) &nbsp; $\\text{sum} = 1 - \\frac{1}{3} + \\frac{1}{5} - \\frac{1}{7} + \\dots + \\frac{(-1)^n}{2n+1}$\n",
        "\n",
        "Try different values on $n$ to see which value it converges to.\n",
        "\n",
        "<details>\n",
        "\n",
        "<summary>Answer </summary>\n",
        "\n",
        "&nbsp; a) &nbsp; $1 + \\frac{1}{2} + \\frac{1}{4} + \\frac{1}{8} + \\dots + \\frac{1}{2^n} \\xrightarrow[n\\rightarrow \\infty]{} 2$\n",
        "\n",
        "&nbsp; b) &nbsp; $ 1 - \\frac{1}{3} + \\frac{1}{5} - \\frac{1}{7} + \\dots + \\frac{(-1)^n}{2n+1} \\xrightarrow[n\\rightarrow \\infty]{} \\frac{\\pi}{4}$\n",
        "\n",
        "</details>"
      ]
    },
    {
      "cell_type": "code",
      "execution_count": null,
      "metadata": {},
      "outputs": [
        {
          "name": "stdout",
          "output_type": "stream",
          "text": [
            "Sum for 5a: 1.9999999998835847\n"
          ]
        }
      ],
      "source": [
        "total = 0\n",
        "term = 1\n",
        "while term > 1e-10:\n",
        "    total += term\n",
        "    term /= 2  # Each term is half the previous\n",
        "print(f\"Sum for a: {total}\")"
      ]
    },
    {
      "cell_type": "code",
      "execution_count": null,
      "metadata": {},
      "outputs": [
        {
          "name": "stdout",
          "output_type": "stream",
          "text": [
            "Sum for 5b: 0.7854031632974463\n"
          ]
        }
      ],
      "source": [
        "total = 0\n",
        "n = 0\n",
        "term = 1\n",
        "while abs(term) > 1e-5:\n",
        "    term = ((-1) ** n) / (2 * n + 1)\n",
        "    total += term\n",
        "    n += 1\n",
        "print(f\"Sum for b: {total}\")"
      ]
    },
    {
      "cell_type": "code",
      "execution_count": null,
      "metadata": {},
      "outputs": [],
      "source": []
    },
    {
      "cell_type": "code",
      "execution_count": null,
      "metadata": {},
      "outputs": [],
      "source": []
    }
  ],
  "metadata": {
    "colab": {
      "include_colab_link": true,
      "provenance": []
    },
    "kernelspec": {
      "display_name": "base",
      "language": "python",
      "name": "python3"
    },
    "language_info": {
      "codemirror_mode": {
        "name": "ipython",
        "version": 3
      },
      "file_extension": ".py",
      "mimetype": "text/x-python",
      "name": "python",
      "nbconvert_exporter": "python",
      "pygments_lexer": "ipython3",
      "version": "3.13.5"
    }
  },
  "nbformat": 4,
  "nbformat_minor": 0
}
