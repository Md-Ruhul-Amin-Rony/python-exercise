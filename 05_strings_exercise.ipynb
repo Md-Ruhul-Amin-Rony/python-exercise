{
  "cells": [
    {
      "cell_type": "markdown",
      "metadata": {
        "colab_type": "text",
        "id": "view-in-github"
      },
      "source": [
        "<a href=\"https://colab.research.google.com/github/aleylani/Python-AI25/blob/main/exercises/05_strings_exercise.ipynb\" target=\"_parent\"><img src=\"https://colab.research.google.com/assets/colab-badge.svg\" alt=\"Open In Colab\"/></a>"
      ]
    },
    {
      "cell_type": "markdown",
      "metadata": {
        "id": "4uEpN9NNQhJc"
      },
      "source": [
        "# strings exercises\n",
        "\n",
        "---\n",
        "These are introductory exercises in Python with focus in **strings**.\n",
        "\n",
        "<p class = \"alert alert-info\" role=\"alert\"><b>Remember</b> to use <b>descriptive variable names</b> in order to get readable code </p>\n",
        "\n",
        "<p class = \"alert alert-info\" role=\"alert\"><b>Remember</b> to format your answers in a neat way using <b>f-strings</b>\n",
        "\n",
        "<p class = \"alert alert-info\" role=\"alert\"><b>Remember</b> to format your input questions in a pedagogical way to guide the user\n",
        "\n",
        "The number of stars (\\*), (\\*\\*), (\\*\\*\\*) denotes the difficulty level of the task\n",
        "\n",
        "---"
      ]
    },
    {
      "cell_type": "markdown",
      "metadata": {
        "id": "_dOqDDyDQhJd"
      },
      "source": [
        "## 1. Counting letters (*)\n",
        "\n",
        "Let the user input a word:\n",
        "\n",
        "&nbsp; a) &nbsp; print out the number of letters in the word. (*)\n",
        "  \n",
        "&nbsp; b) &nbsp; print out the number of **uppercase** and **lowercase** letters of the word (*)   \n"
      ]
    },
    {
      "cell_type": "code",
      "execution_count": 5,
      "metadata": {},
      "outputs": [
        {
          "name": "stdout",
          "output_type": "stream",
          "text": [
            "You wrote: hello\n",
            "Your input has 5 characters.\n",
            "Your input in upper case: HELLO\n",
            "Your input in lower case: hello\n"
          ]
        }
      ],
      "source": [
        "user_input = input(\"please write something: \")\n",
        "print(f\"You wrote: {user_input}\")\n",
        "numberofletteres = len(user_input)\n",
        "\n",
        "print(f\"Your input has {numberofletteres} characters.\")\n",
        "\n",
        "upper_case = user_input.upper()\n",
        "print(f\"Your input in upper case: {upper_case}\")\n",
        "lower_case = user_input.lower()\n",
        "print(f\"Your input in lower case: {lower_case}\")\n"
      ]
    },
    {
      "cell_type": "markdown",
      "metadata": {
        "id": "ubDgfpYrQhJe"
      },
      "source": [
        "---\n",
        "## 2. Counting words (*)\n",
        "\n",
        "Count the number of words in this sentence: \"A picture says more than a thousand words, a matematical formula says more than a thousand pictures.\" (*)\n",
        "\n",
        "<details>\n",
        "\n",
        "<summary>Answer</summary>\n",
        "\n",
        "```\n",
        "There are 17 words in that sentence\n",
        "```"
      ]
    },
    {
      "cell_type": "code",
      "execution_count": 6,
      "metadata": {},
      "outputs": [
        {
          "name": "stdout",
          "output_type": "stream",
          "text": [
            "There are 17 words in that sentence.\n"
          ]
        }
      ],
      "source": [
        "sentence = \"A picture says more than a thousand words, a matematical formula says more than a thousand pictures.\"\n",
        "words = sentence.split()\n",
        "words_count = len(words)\n",
        "print(f\"There are {words_count } words in that sentence.\")"
      ]
    },
    {
      "cell_type": "markdown",
      "metadata": {
        "id": "ZqvDvKPRQhJe"
      },
      "source": [
        "---\n",
        "## 3. Palindrome (*)\n",
        "\n",
        "A palindrome is a sequence of characters that is the same, when read forward as backwards (ignoring spaces). For example:\n",
        "- \"Anna\" is a palindrome\n",
        "- \"Ni talar bra latin\"\n",
        "- bjkjb\n",
        "\n",
        "Let the user input a sequence of characters and check if it is a palindrome. (*)"
      ]
    },
    {
      "cell_type": "code",
      "execution_count": 10,
      "metadata": {},
      "outputs": [
        {
          "name": "stdout",
          "output_type": "stream",
          "text": [
            "Your input reversed is: arma\n",
            "Your input is not a palindrome.\n"
          ]
        }
      ],
      "source": [
        "user_input = input(\"please write something: \")\n",
        "clean = user_input.replace(\" \", \"\").lower()\n",
        "rev = ''.join(reversed(clean ))\n",
        "print(f\"Your input reversed is: {rev}\")\n",
        "if clean == rev:\n",
        "    print(\"Your input is a palindrome.\")\n",
        "else:\n",
        "    print(\"Your input is not a palindrome.\")\n",
        "    \n",
        "# palin = user_input == user_input[::-1]\n",
        "# if palin:\n",
        "#     print(\"Your input is a palindrome.\")    \n",
        "# else:\n",
        "#     print(\"Your input is not a palindrome.\")"
      ]
    },
    {
      "cell_type": "markdown",
      "metadata": {
        "id": "K0MbPLPQQhJe"
      },
      "source": [
        "---\n",
        "## 4. Vowels (**)\n",
        "\n",
        "Count the number of vowels in this sentence: \"Pure mathematics is, in its way, the poetry of logical ideas\"\n",
        "\n",
        "<details>\n",
        "\n",
        "<summary>Answer</summary>\n",
        "\n",
        "```\n",
        "\n",
        "There are 22 vowels in this sentence\n",
        "\n",
        "```\n",
        "</details>"
      ]
    },
    {
      "cell_type": "code",
      "execution_count": 16,
      "metadata": {},
      "outputs": [
        {
          "name": "stdout",
          "output_type": "stream",
          "text": [
            "There are 33 vowels in this sentence.\n"
          ]
        }
      ],
      "source": [
        "sentence = \"A picture says more than a thousand words, a matematical formula says more than a thousand pictures.\"\n",
        "small = \"\".join(sentence.split()).lower()\n",
        "count = 0\n",
        "for char in small:\n",
        "    if char in 'aeiou':\n",
        "        count += 1\n",
        "print(f\"There are {count} vowels in this sentence.\")"
      ]
    },
    {
      "cell_type": "markdown",
      "metadata": {
        "id": "YCkksJpfQhJe"
      },
      "source": [
        "---\n",
        "## 5. Encryption (**)\n",
        "\n",
        "Let the user input a word and:\n",
        "\n",
        "&nbsp; a) &nbsp; encrypt the message by replacing each letter with the next letter. If the letter is in the end of the alphabet, use the first letter instead.\n",
        "\n",
        "e.g. in Swedish: \"höst\" $\\rightarrow$ \"iatu\"\n",
        "\n",
        "&nbsp; b) &nbsp; decrypt the message\n",
        "\n",
        "&nbsp; c) &nbsp; let the user choose either encryption or decryption."
      ]
    },
    {
      "cell_type": "code",
      "execution_count": null,
      "metadata": {},
      "outputs": [],
      "source": [
        "alphabet = \"abcdefghijklmnopqrstuvwxyzåäö\"\n",
        "\n",
        "choice = input(\"Do you want to (e)ncrypt or (d)ecrypt? \").lower()\n",
        "word = input(\"Enter your word: \").lower()\n",
        "\n",
        "result = \"\"\n",
        "\n",
        "for char in word:\n",
        "    if char in alphabet:\n",
        "        idx = alphabet.find(char)\n",
        "        if choice == \"e\":\n",
        "            # move forward one step\n",
        "            result += alphabet[(idx + 1) % len(alphabet)]\n",
        "        elif choice == \"d\":\n",
        "            # move backward one step\n",
        "            result += alphabet[(idx - 1) % len(alphabet)]\n",
        "    else:\n",
        "        result += char  # keep non-letters\n",
        "\n",
        "print(\"Result:\", result)\n"
      ]
    }
  ],
  "metadata": {
    "colab": {
      "include_colab_link": true,
      "provenance": []
    },
    "kernelspec": {
      "display_name": "programming",
      "language": "python",
      "name": "python3"
    },
    "language_info": {
      "codemirror_mode": {
        "name": "ipython",
        "version": 3
      },
      "file_extension": ".py",
      "mimetype": "text/x-python",
      "name": "python",
      "nbconvert_exporter": "python",
      "pygments_lexer": "ipython3",
      "version": "3.13.5"
    }
  },
  "nbformat": 4,
  "nbformat_minor": 0
}
