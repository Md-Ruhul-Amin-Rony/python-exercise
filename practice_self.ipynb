{
 "cells": [
  {
   "cell_type": "code",
   "execution_count": 3,
   "id": "e467d07b",
   "metadata": {},
   "outputs": [
    {
     "name": "stdout",
     "output_type": "stream",
     "text": [
      "[0, 1, 2, 3, 4, 5, 6, 7, 8, 9]\n",
      "[0, 1, 4, 9, 16, 25, 36, 49, 64, 81]\n"
     ]
    }
   ],
   "source": [
    "squares = []\n",
    "for x in range(10):\n",
    "    squares.append(x)\n",
    "print(squares)\n",
    "squares = [x**2 for x in range(10)]\n",
    "print(squares)"
   ]
  },
  {
   "cell_type": "code",
   "execution_count": null,
   "id": "767e8650",
   "metadata": {},
   "outputs": [
    {
     "name": "stdout",
     "output_type": "stream",
     "text": [
      "{'Ada': 'Lovelace', 'Alan': 'Turing', 'Grace': 'Hopper', 'Margaret': 'Hamilton'}\n",
      "{'alice': 5, 'bob': 3, 'charlie': 7}\n"
     ]
    }
   ],
   "source": [
    "# pairs = []\n",
    "# for x in range(3):\n",
    "#     for y in range(3):\n",
    "#         pairs.append((x,y))\n",
    "# print(pairs)\n",
    "\n",
    "# pairs1 =[(x,y) for x in range(3)for y in range(3)]\n",
    "# print(pairs1)\n",
    "\n",
    "\n",
    "# labels = [\"even\" if x%2==0 else \"odd\" for x in range(10)]\n",
    "# print(labels.count(\"even\") )\n",
    "# print(labels)\n",
    "\n",
    "\n",
    "\n",
    "names = [\"Ada Lovelace\", \"Alan Turing\", \"Grace Hopper\", \"Margaret Hamilton\"]\n",
    "#first_names = [name.split()[0] for name in names]\n",
    "\n",
    "\n",
    "name_dict = {name.split()[0]: name.split()[1] for name in names}\n",
    "print(name_dict)\n",
    "\n",
    "names  =[\"alice\", \"bob\", \"charlie\" ]\n",
    "\n",
    "name_dict ={name: len(name) for name in names  }\n",
    "print(name_dict)\n",
    "\n"
   ]
  },
  {
   "cell_type": "code",
   "execution_count": 27,
   "id": "8d3ba8e6",
   "metadata": {},
   "outputs": [
    {
     "name": "stdout",
     "output_type": "stream",
     "text": [
      "{10: {'id': 10, 'name': 'Amy'}, 12: {'id': 12, 'name': 'Bob'}}\n",
      "Counter({'a': 2, 'b': 1})\n"
     ]
    }
   ],
   "source": [
    "people = [{'id': 10, 'name': 'Amy'}, {'id': 12, 'name':'Bob'}]\n",
    "by_id = {p['id']: p for p in people}\n",
    "print(by_id)\n",
    "# -> {10: {'id': 10, 'name': 'Amy'}, 12: {...}}\n",
    "from collections import Counter\n",
    "words = ['a','b','a']\n",
    "counts = Counter(words)\n",
    "print(counts)\n"
   ]
  },
  {
   "cell_type": "code",
   "execution_count": null,
   "id": "01588315",
   "metadata": {},
   "outputs": [],
   "source": []
  },
  {
   "cell_type": "code",
   "execution_count": 28,
   "id": "6b1287ea",
   "metadata": {},
   "outputs": [
    {
     "name": "stdout",
     "output_type": "stream",
     "text": [
      "['0:a', '1:b']\n"
     ]
    }
   ],
   "source": [
    "words = ['a' ,'b']\n",
    "res = [f\"{i}:{w}\" for i, w in enumerate(words)]\n",
    "print(res)\n",
    "\n"
   ]
  },
  {
   "cell_type": "code",
   "execution_count": null,
   "id": "8ee9a235",
   "metadata": {},
   "outputs": [
    {
     "data": {
      "text/plain": [
       "['morse.txt',\n",
       " 'names.txt',\n",
       " 'NPvt19Ma2A.txt',\n",
       " 'NPvt19Ma2B.txt',\n",
       " 'NPvt19Ma2C.txt',\n",
       " 'pokemon_list.txt',\n",
       " 'Provresultat.txt',\n",
       " 'quotes.txt',\n",
       " 'test_result.txt']"
      ]
     },
     "execution_count": 44,
     "metadata": {},
     "output_type": "execute_result"
    }
   ],
   "source": [
    "import os\n",
    "os.listdir()\n",
    "os.listdir('../PythonRepo/python-AI25/data/quotes.txt')\n",
    "\n"
   ]
  },
  {
   "cell_type": "code",
   "execution_count": 49,
   "id": "0963b3c5",
   "metadata": {},
   "outputs": [],
   "source": [
    "filepath ='../PythonRepo/python-AI25/data/newNames.txt'\n",
    "\n",
    "names = ['alice', 'bob', 'charlie']\n",
    "with open(filepath , 'w') as f:\n",
    "    for name in names:\n",
    "        f.write(name + '\\n')\n",
    "    "
   ]
  },
  {
   "cell_type": "code",
   "execution_count": 2,
   "id": "6ccf87f6",
   "metadata": {},
   "outputs": [],
   "source": [
    "FRUITS = (\"apples\", \"oranges\", \"bananas\", \"strawberries\")\n",
    "MAX_PER_FRUIT = 200  # the box can hold at most 200 of any single fr\n",
    "class Faction:\n",
    "     def __init__(self, name, apples, oranges, bananas, strawberries):\n",
    "        # 1) Check name is text\n",
    "        if not isinstance(name, str):\n",
    "            raise TypeError(\"name must be text (string).\")\n",
    "        self.name = name  # store the name\n",
    "\n",
    "        # 2) Put initial fruit counts in a dictionary, but first validate each value\n",
    "        initial = {\"apples\": apples, \"oranges\": oranges,\n",
    "                   \"bananas\": bananas, \"strawberries\": strawberries}\n",
    "        self.fruits = {}  # create empty dict to fill with validated values\n",
    "\n",
    "        for fruit in FRUITS:                    # loop over the four fruits\n",
    "            value = initial.get(fruit)   \n",
    "            print(value)       # get the number given for that fruit\n",
    "            if not isinstance(value, int):      # must be an integer (no decimals, no lists)\n",
    "                raise TypeError(f\"{fruit} must be an integer\")\n",
    "            if value < 0 or value > MAX_PER_FRUIT:  # must be 0..200\n",
    "                raise ValueError(f\"{fruit} must be between 0 and {MAX_PER_FRUIT}\")\n",
    "            self.fruits[fruit] = value          # save the validated number into the dictionary"
   ]
  },
  {
   "cell_type": "code",
   "execution_count": 22,
   "id": "2f42f5d5",
   "metadata": {},
   "outputs": [
    {
     "name": "stdout",
     "output_type": "stream",
     "text": [
      "1\n",
      "2\n",
      "6\n",
      "24\n",
      "120\n",
      "The factorial of number 5  is : 120\n"
     ]
    }
   ],
   "source": [
    "n  = int(input(\"Enter a number that you want to factorial : \"))\n",
    "sum = 1\n",
    "for i in range(1, n+1):\n",
    "    sum = sum * i\n",
    "    print(sum)\n",
    "print(f\"The factorial of number {n}  is : {sum}\")\n"
   ]
  },
  {
   "cell_type": "code",
   "execution_count": 23,
   "id": "3c5c20af",
   "metadata": {},
   "outputs": [
    {
     "name": "stdout",
     "output_type": "stream",
     "text": [
      "The sum of even numbers is : 6 and the sum of odd numbers is : 9\n"
     ]
    }
   ],
   "source": [
    "n= int(input(\"Enter the number that you want to sum upto : \"))\n",
    "even = 0\n",
    "odd = 0\n",
    "for i in range(1, n+1):\n",
    "    if i%2==0:\n",
    "        even = even + i\n",
    "    else:\n",
    "        odd = odd + i\n",
    "print(f\"The sum of even numbers is : {even} and the sum of odd numbers is : {odd}\")"
   ]
  },
  {
   "cell_type": "code",
   "execution_count": 2,
   "id": "01ce07db",
   "metadata": {},
   "outputs": [
    {
     "name": "stdout",
     "output_type": "stream",
     "text": [
      "This is not a perfect number\n"
     ]
    }
   ],
   "source": [
    "n= int(input(\"Enter the number you want to have factors:\"))\n",
    "sum= 0 \n",
    "for p in range(1,n):\n",
    "    if n%p==0:\n",
    "        sum = sum + p\n",
    "if sum == n:\n",
    "        print (\"This is a perfect number\")\n",
    "else:\n",
    "        print(\"This is not a perfect number\")\n",
    "         \n",
    "      "
   ]
  },
  {
   "cell_type": "code",
   "execution_count": 8,
   "id": "368f04bc",
   "metadata": {},
   "outputs": [
    {
     "name": "stdout",
     "output_type": "stream",
     "text": [
      "This is a prime number\n"
     ]
    }
   ],
   "source": [
    "n = int(input(\"Enter number of prime: \"))\n",
    "count = 0   \n",
    "for i in range(1, n+1):\n",
    "    if n%i==0:\n",
    "        count = count + 1\n",
    "\n",
    "if count == 2:\n",
    "    print(\"This is a prime number\")\n",
    "else:\n",
    "    print(\"This is not a prime number\")\n",
    "\n",
    "\n",
    "        \n"
   ]
  },
  {
   "cell_type": "code",
   "execution_count": 23,
   "id": "2b952a38",
   "metadata": {},
   "outputs": [
    {
     "name": "stdout",
     "output_type": "stream",
     "text": [
      "r\n",
      "o\n",
      "r\n",
      "ror\n",
      "This is a palindrome\n"
     ]
    }
   ],
   "source": [
    "a = input(\"Enter  the string  to check if it is palindrome or not: \")\n",
    "b=\"\"\n",
    "for i in range(len(a)-1, -1, -1):\n",
    "    b += a[i]\n",
    "    print(a[i])\n",
    "print(b)\n",
    "if a == b:\n",
    "    print(\"This is a palindrome\")\n",
    "else:\n",
    "    print(\"This is not a palindrome\")\n",
    "\n",
    "\n"
   ]
  },
  {
   "cell_type": "code",
   "execution_count": 32,
   "id": "f19e832b",
   "metadata": {},
   "outputs": [
    {
     "name": "stdout",
     "output_type": "stream",
     "text": [
      "Digits are : 15 , Letters are : 12 , Special characters are : 4\n",
      "Digits characters are : 123123132112312 , Letters characters are : asdasdhakjha , Special characters are : @@@@\n",
      "Digits:  123123132112312\n",
      "Letters: asdasdhakjha\n",
      "Specials: @@@@\n"
     ]
    }
   ],
   "source": [
    "a = \"asdasdhakjha1231231321@@@@12312\"\n",
    "\n",
    "digits = 0\n",
    "letters = 0\n",
    "special = 0\n",
    "digits_char=[]\n",
    "letters_char =[]\n",
    "special_char =[]\n",
    "for i in a:\n",
    "    if i.isdigit():\n",
    "        digits = digits + 1\n",
    "        digits_char.append(i)\n",
    "    elif i.isalpha():\n",
    "        letters = letters + 1\n",
    "        letters_char.append(i)\n",
    "    else:\n",
    "        special = special + 1\n",
    "        special_char.append(i)\n",
    "print(f\"Digits are : {digits} , Letters are : {letters} , Special characters are : {special}\")\n",
    "print(f\"Digits characters are : {''.join(digits_char)} , Letters characters are : {''.join(letters_char)} , Special characters are : {''.join(special_char)}\")\n",
    "print(\"Digits: \", \"\".join(digits_char))\n",
    "print(\"Letters:\", \"\".join(letters_char))\n",
    "print(\"Specials:\", \"\".join(special_char))"
   ]
  },
  {
   "cell_type": "markdown",
   "id": "d7fc719a",
   "metadata": {},
   "source": [
    "**Extract the digits from a number**\n",
    "\n"
   ]
  },
  {
   "cell_type": "code",
   "execution_count": 34,
   "id": "551fc829",
   "metadata": {},
   "outputs": [
    {
     "name": "stdout",
     "output_type": "stream",
     "text": [
      "6\n",
      "5\n",
      "2\n"
     ]
    }
   ],
   "source": [
    "a = int(input(\"Enter the number that you want to extract digits from : \"))\n",
    "while a>0:\n",
    "    digit = a%10\n",
    "    print(digit)\n",
    "    a = a//10 "
   ]
  },
  {
   "cell_type": "code",
   "execution_count": 15,
   "id": "ba6c66fe",
   "metadata": {},
   "outputs": [
    {
     "name": "stdout",
     "output_type": "stream",
     "text": [
      "6\n",
      "10\n",
      "12\n",
      "20\n",
      "7.5\n",
      "40\n",
      "50\n"
     ]
    }
   ],
   "source": [
    "a = [10,12,20,7.5,40,50]\n",
    "print(len(a))\n",
    "for i in range(len(a)):\n",
    "    print(a[i])\n",
    "\n"
   ]
  },
  {
   "cell_type": "code",
   "execution_count": 19,
   "id": "72cc54d2",
   "metadata": {},
   "outputs": [
    {
     "name": "stdout",
     "output_type": "stream",
     "text": [
      "4\n",
      "83.0\n"
     ]
    }
   ],
   "source": [
    "l =[12,250,30,40]\n",
    "\n",
    "sum = 0\n",
    "for i in l:\n",
    "    sum = sum + i\n",
    "a = len(l)\n",
    "print(a)\n",
    "print(sum/a)"
   ]
  },
  {
   "cell_type": "code",
   "execution_count": 23,
   "id": "c9a0f431",
   "metadata": {},
   "outputs": [
    {
     "name": "stdout",
     "output_type": "stream",
     "text": [
      "The largest number is 128 and the index is 4\n"
     ]
    }
   ],
   "source": [
    "a = [12,36,14,19,128,6,13]\n",
    "\n",
    "largest =a[0]\n",
    "index = 0\n",
    "\n",
    "for i in range(len(a)):\n",
    "    if a[i] >largest:\n",
    "        largest =a[i]\n",
    "        index = i\n",
    "print(f\"The largest number is {largest} and the index is {index}\")        "
   ]
  },
  {
   "cell_type": "code",
   "execution_count": 28,
   "id": "3517c66e",
   "metadata": {},
   "outputs": [
    {
     "name": "stdout",
     "output_type": "stream",
     "text": [
      "19\n",
      "17\n"
     ]
    }
   ],
   "source": [
    "#a = [12,36,14,19,128,6,13]\n",
    "\n",
    "a = [12,16,13,19,17]\n",
    "largest = a[0]\n",
    "second_largest = a[0]\n",
    "\n",
    "for i in a:\n",
    "    if i>largest:\n",
    "        second_largest= largest\n",
    "        largest =i\n",
    "    elif  i>second_largest:\n",
    "        second_largest =i  \n",
    "print(largest)     \n",
    "print(second_largest)   "
   ]
  },
  {
   "cell_type": "code",
   "execution_count": 33,
   "id": "fe4b115f",
   "metadata": {},
   "outputs": [
    {
     "name": "stdout",
     "output_type": "stream",
     "text": [
      "it is not sorted\n",
      "0\n",
      "[12, 12, 13, 14, 16, 17, 5, 6, 7]\n"
     ]
    }
   ],
   "source": [
    "a = [12,12,13,14,16,17]\n",
    "\n",
    "for i in range(len(a)-1):\n",
    "    if a[i]<a[i+1]:\n",
    "        continue\n",
    "    else:\n",
    "        print (\"it is not sorted\")\n",
    "        break\n",
    "else:\n",
    "    print(\"it is sorted\")   \n",
    "a.extend([5,6,7])\n",
    "b= a.index(12)\n",
    "print (b)\n",
    "print(a)\n",
    "        "
   ]
  },
  {
   "cell_type": "code",
   "execution_count": null,
   "id": "e9800840",
   "metadata": {},
   "outputs": [],
   "source": []
  },
  {
   "cell_type": "code",
   "execution_count": null,
   "id": "d979a4aa",
   "metadata": {},
   "outputs": [
    {
     "name": "stdout",
     "output_type": "stream",
     "text": [
      "Counter({1: 3, 2: 3, 3: 3, 4: 3, 5: 2, 6: 1, 7: 1, 8: 1})\n"
     ]
    }
   ],
   "source": [
    "a =[1,1,1,2,2,2,3,3,3,4,4,4,5,5,6,7,8]\n",
    "\n",
    "d={}\n",
    "for  i in a:\n",
    "    if i in d.keys():\n",
    "        d[i] +=1\n",
    "    else:\n",
    "        d[i] =1\n",
    "print(d)\n",
    "\n",
    "from collections import Counter\n",
    "print (Counter(a))\n"
   ]
  },
  {
   "cell_type": "code",
   "execution_count": 37,
   "id": "53e1d7b1",
   "metadata": {},
   "outputs": [
    {
     "name": "stdout",
     "output_type": "stream",
     "text": [
      "{10: 100, 20: 200, 30: 300, 40: 800, 50: 500, 60: 600}\n"
     ]
    }
   ],
   "source": [
    "d1 = {10:100, 20:200, 30:300, 40:400}\n",
    "d2 = { 40:400, 50:500, 60:600 }\n",
    "\n",
    "\n",
    "\n",
    "for i in d2.keys():\n",
    "    if i in d1.keys():\n",
    "        d1[i]=d2[i]+d1[i]\n",
    "    else:\n",
    "        d1[i] = d2[i]\n",
    "print(d1)        \n"
   ]
  },
  {
   "cell_type": "code",
   "execution_count": 53,
   "id": "53160184",
   "metadata": {},
   "outputs": [
    {
     "name": "stdout",
     "output_type": "stream",
     "text": [
      "an error has occured and the error is Your age must be between 18 to 30\n",
      "The club will start soon\n"
     ]
    }
   ],
   "source": [
    "age=int(input(\"Tell your age :-\"))\n",
    "\n",
    "try:\n",
    "    if age<18 or age>30:\n",
    "        raise ValueError(\"Your age must be between 18 to 30\")\n",
    "    else:\n",
    "        print(\"Welcome to the club\")\n",
    "except Exception as e:\n",
    "    print(f\"an error has occured and the error is {e}\")\n",
    "\n",
    "print(\"The club will start soon\")\n",
    "\n"
   ]
  },
  {
   "cell_type": "code",
   "execution_count": null,
   "id": "b5521fd9",
   "metadata": {},
   "outputs": [],
   "source": []
  }
 ],
 "metadata": {
  "kernelspec": {
   "display_name": "programming",
   "language": "python",
   "name": "python3"
  },
  "language_info": {
   "codemirror_mode": {
    "name": "ipython",
    "version": 3
   },
   "file_extension": ".py",
   "mimetype": "text/x-python",
   "name": "python",
   "nbconvert_exporter": "python",
   "pygments_lexer": "ipython3",
   "version": "3.13.5"
  }
 },
 "nbformat": 4,
 "nbformat_minor": 5
}
