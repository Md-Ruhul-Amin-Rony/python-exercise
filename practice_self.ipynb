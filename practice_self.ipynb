{
 "cells": [
  {
   "cell_type": "code",
   "execution_count": 3,
   "id": "e467d07b",
   "metadata": {},
   "outputs": [
    {
     "name": "stdout",
     "output_type": "stream",
     "text": [
      "[0, 1, 2, 3, 4, 5, 6, 7, 8, 9]\n",
      "[0, 1, 4, 9, 16, 25, 36, 49, 64, 81]\n"
     ]
    }
   ],
   "source": [
    "squares = []\n",
    "for x in range(10):\n",
    "    squares.append(x)\n",
    "print(squares)\n",
    "squares = [x**2 for x in range(10)]\n",
    "print(squares)"
   ]
  },
  {
   "cell_type": "code",
   "execution_count": null,
   "id": "767e8650",
   "metadata": {},
   "outputs": [
    {
     "name": "stdout",
     "output_type": "stream",
     "text": [
      "{'Ada': 'Lovelace', 'Alan': 'Turing', 'Grace': 'Hopper', 'Margaret': 'Hamilton'}\n",
      "{'alice': 5, 'bob': 3, 'charlie': 7}\n"
     ]
    }
   ],
   "source": [
    "# pairs = []\n",
    "# for x in range(3):\n",
    "#     for y in range(3):\n",
    "#         pairs.append((x,y))\n",
    "# print(pairs)\n",
    "\n",
    "# pairs1 =[(x,y) for x in range(3)for y in range(3)]\n",
    "# print(pairs1)\n",
    "\n",
    "\n",
    "# labels = [\"even\" if x%2==0 else \"odd\" for x in range(10)]\n",
    "# print(labels.count(\"even\") )\n",
    "# print(labels)\n",
    "\n",
    "\n",
    "\n",
    "names = [\"Ada Lovelace\", \"Alan Turing\", \"Grace Hopper\", \"Margaret Hamilton\"]\n",
    "#first_names = [name.split()[0] for name in names]\n",
    "\n",
    "\n",
    "name_dict = {name.split()[0]: name.split()[1] for name in names}\n",
    "print(name_dict)\n",
    "\n",
    "names  =[\"alice\", \"bob\", \"charlie\" ]\n",
    "\n",
    "name_dict ={name: len(name) for name in names  }\n",
    "print(name_dict)\n",
    "\n"
   ]
  },
  {
   "cell_type": "code",
   "execution_count": 27,
   "id": "8d3ba8e6",
   "metadata": {},
   "outputs": [
    {
     "name": "stdout",
     "output_type": "stream",
     "text": [
      "{10: {'id': 10, 'name': 'Amy'}, 12: {'id': 12, 'name': 'Bob'}}\n",
      "Counter({'a': 2, 'b': 1})\n"
     ]
    }
   ],
   "source": [
    "people = [{'id': 10, 'name': 'Amy'}, {'id': 12, 'name':'Bob'}]\n",
    "by_id = {p['id']: p for p in people}\n",
    "print(by_id)\n",
    "# -> {10: {'id': 10, 'name': 'Amy'}, 12: {...}}\n",
    "from collections import Counter\n",
    "words = ['a','b','a']\n",
    "counts = Counter(words)\n",
    "print(counts)\n"
   ]
  },
  {
   "cell_type": "code",
   "execution_count": null,
   "id": "01588315",
   "metadata": {},
   "outputs": [],
   "source": []
  },
  {
   "cell_type": "code",
   "execution_count": 28,
   "id": "6b1287ea",
   "metadata": {},
   "outputs": [
    {
     "name": "stdout",
     "output_type": "stream",
     "text": [
      "['0:a', '1:b']\n"
     ]
    }
   ],
   "source": [
    "words = ['a' ,'b']\n",
    "res = [f\"{i}:{w}\" for i, w in enumerate(words)]\n",
    "print(res)\n",
    "\n"
   ]
  },
  {
   "cell_type": "code",
   "execution_count": null,
   "id": "8ee9a235",
   "metadata": {},
   "outputs": [
    {
     "data": {
      "text/plain": [
       "['morse.txt',\n",
       " 'names.txt',\n",
       " 'NPvt19Ma2A.txt',\n",
       " 'NPvt19Ma2B.txt',\n",
       " 'NPvt19Ma2C.txt',\n",
       " 'pokemon_list.txt',\n",
       " 'Provresultat.txt',\n",
       " 'quotes.txt',\n",
       " 'test_result.txt']"
      ]
     },
     "execution_count": 44,
     "metadata": {},
     "output_type": "execute_result"
    }
   ],
   "source": [
    "import os\n",
    "os.listdir()\n",
    "os.listdir('../PythonRepo/python-AI25/data/quotes.txt')\n",
    "\n"
   ]
  },
  {
   "cell_type": "code",
   "execution_count": 49,
   "id": "0963b3c5",
   "metadata": {},
   "outputs": [],
   "source": [
    "filepath ='../PythonRepo/python-AI25/data/newNames.txt'\n",
    "\n",
    "names = ['alice', 'bob', 'charlie']\n",
    "with open(filepath , 'w') as f:\n",
    "    for name in names:\n",
    "        f.write(name + '\\n')\n",
    "    "
   ]
  }
 ],
 "metadata": {
  "kernelspec": {
   "display_name": "programming",
   "language": "python",
   "name": "python3"
  },
  "language_info": {
   "codemirror_mode": {
    "name": "ipython",
    "version": 3
   },
   "file_extension": ".py",
   "mimetype": "text/x-python",
   "name": "python",
   "nbconvert_exporter": "python",
   "pygments_lexer": "ipython3",
   "version": "3.13.5"
  }
 },
 "nbformat": 4,
 "nbformat_minor": 5
}
